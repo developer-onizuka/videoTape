{
 "cells": [
  {
   "cell_type": "code",
   "execution_count": 1,
   "id": "3282567e-42ba-4a18-b59e-6e2986512c70",
   "metadata": {},
   "outputs": [
    {
     "name": "stdout",
     "output_type": "stream",
     "text": [
      "----- start -----\n",
      "Hello World!\n",
      "----- end -----\n"
     ]
    }
   ],
   "source": [
    "def deco(func):\n",
    "    def wrapper(arg):\n",
    "        print('----- start -----')\n",
    "        print(func(arg))\n",
    "        print('----- end -----')\n",
    "    return wrapper\n",
    "\n",
    "\n",
    "def hello(str):\n",
    "    return str \n",
    "\n",
    "decorated_hello = deco(hello)\n",
    "decorated_hello(\"Hello World!\")\n"
   ]
  },
  {
   "cell_type": "code",
   "execution_count": null,
   "id": "ff9f78d8-c23a-40d9-b543-e4aa784449c4",
   "metadata": {},
   "outputs": [],
   "source": []
  }
 ],
 "metadata": {
  "kernelspec": {
   "display_name": "Python 3 (ipykernel)",
   "language": "python",
   "name": "python3"
  },
  "language_info": {
   "codemirror_mode": {
    "name": "ipython",
    "version": 3
   },
   "file_extension": ".py",
   "mimetype": "text/x-python",
   "name": "python",
   "nbconvert_exporter": "python",
   "pygments_lexer": "ipython3",
   "version": "3.8.10"
  }
 },
 "nbformat": 4,
 "nbformat_minor": 5
}
